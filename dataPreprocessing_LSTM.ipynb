{
 "cells": [
  {
   "cell_type": "code",
   "execution_count": 1,
   "id": "8bac47f0",
   "metadata": {},
   "outputs": [],
   "source": [
    "# Import all necessary libraries.\n",
    "import numpy as np\n",
    "import pandas as pd\n",
    "from sklearn  import preprocessing\n",
    "from sklearn.preprocessing import MinMaxScaler\n",
    "import matplotlib.pyplot as plt"
   ]
  },
  {
   "cell_type": "markdown",
   "id": "27841a86",
   "metadata": {},
   "source": [
    "# Read dataset"
   ]
  },
  {
   "cell_type": "code",
   "execution_count": 2,
   "id": "26e2f95c",
   "metadata": {},
   "outputs": [],
   "source": [
    "# Import Dataset\n",
    "\n",
    "traffic_data = pd.read_csv(\"dataset/Metro_Interstate_Traffic_Volume.csv\", parse_dates=['date_time'], index_col='date_time')"
   ]
  },
  {
   "cell_type": "code",
   "execution_count": 3,
   "id": "4475762a",
   "metadata": {},
   "outputs": [
    {
     "data": {
      "text/html": [
       "<div>\n",
       "<style scoped>\n",
       "    .dataframe tbody tr th:only-of-type {\n",
       "        vertical-align: middle;\n",
       "    }\n",
       "\n",
       "    .dataframe tbody tr th {\n",
       "        vertical-align: top;\n",
       "    }\n",
       "\n",
       "    .dataframe thead th {\n",
       "        text-align: right;\n",
       "    }\n",
       "</style>\n",
       "<table border=\"1\" class=\"dataframe\">\n",
       "  <thead>\n",
       "    <tr style=\"text-align: right;\">\n",
       "      <th></th>\n",
       "      <th>holiday</th>\n",
       "      <th>temp</th>\n",
       "      <th>rain_1h</th>\n",
       "      <th>snow_1h</th>\n",
       "      <th>clouds_all</th>\n",
       "      <th>weather_main</th>\n",
       "      <th>weather_description</th>\n",
       "      <th>traffic_volume</th>\n",
       "    </tr>\n",
       "    <tr>\n",
       "      <th>date_time</th>\n",
       "      <th></th>\n",
       "      <th></th>\n",
       "      <th></th>\n",
       "      <th></th>\n",
       "      <th></th>\n",
       "      <th></th>\n",
       "      <th></th>\n",
       "      <th></th>\n",
       "    </tr>\n",
       "  </thead>\n",
       "  <tbody>\n",
       "    <tr>\n",
       "      <th>2012-10-02 09:00:00</th>\n",
       "      <td>None</td>\n",
       "      <td>288.28</td>\n",
       "      <td>0.0</td>\n",
       "      <td>0.0</td>\n",
       "      <td>40</td>\n",
       "      <td>Clouds</td>\n",
       "      <td>scattered clouds</td>\n",
       "      <td>5545</td>\n",
       "    </tr>\n",
       "    <tr>\n",
       "      <th>2012-10-02 10:00:00</th>\n",
       "      <td>None</td>\n",
       "      <td>289.36</td>\n",
       "      <td>0.0</td>\n",
       "      <td>0.0</td>\n",
       "      <td>75</td>\n",
       "      <td>Clouds</td>\n",
       "      <td>broken clouds</td>\n",
       "      <td>4516</td>\n",
       "    </tr>\n",
       "    <tr>\n",
       "      <th>2012-10-02 11:00:00</th>\n",
       "      <td>None</td>\n",
       "      <td>289.58</td>\n",
       "      <td>0.0</td>\n",
       "      <td>0.0</td>\n",
       "      <td>90</td>\n",
       "      <td>Clouds</td>\n",
       "      <td>overcast clouds</td>\n",
       "      <td>4767</td>\n",
       "    </tr>\n",
       "    <tr>\n",
       "      <th>2012-10-02 12:00:00</th>\n",
       "      <td>None</td>\n",
       "      <td>290.13</td>\n",
       "      <td>0.0</td>\n",
       "      <td>0.0</td>\n",
       "      <td>90</td>\n",
       "      <td>Clouds</td>\n",
       "      <td>overcast clouds</td>\n",
       "      <td>5026</td>\n",
       "    </tr>\n",
       "    <tr>\n",
       "      <th>2012-10-02 13:00:00</th>\n",
       "      <td>None</td>\n",
       "      <td>291.14</td>\n",
       "      <td>0.0</td>\n",
       "      <td>0.0</td>\n",
       "      <td>75</td>\n",
       "      <td>Clouds</td>\n",
       "      <td>broken clouds</td>\n",
       "      <td>4918</td>\n",
       "    </tr>\n",
       "  </tbody>\n",
       "</table>\n",
       "</div>"
      ],
      "text/plain": [
       "                    holiday    temp  rain_1h  snow_1h  clouds_all  \\\n",
       "date_time                                                           \n",
       "2012-10-02 09:00:00    None  288.28      0.0      0.0          40   \n",
       "2012-10-02 10:00:00    None  289.36      0.0      0.0          75   \n",
       "2012-10-02 11:00:00    None  289.58      0.0      0.0          90   \n",
       "2012-10-02 12:00:00    None  290.13      0.0      0.0          90   \n",
       "2012-10-02 13:00:00    None  291.14      0.0      0.0          75   \n",
       "\n",
       "                    weather_main weather_description  traffic_volume  \n",
       "date_time                                                             \n",
       "2012-10-02 09:00:00       Clouds    scattered clouds            5545  \n",
       "2012-10-02 10:00:00       Clouds       broken clouds            4516  \n",
       "2012-10-02 11:00:00       Clouds     overcast clouds            4767  \n",
       "2012-10-02 12:00:00       Clouds     overcast clouds            5026  \n",
       "2012-10-02 13:00:00       Clouds       broken clouds            4918  "
      ]
     },
     "execution_count": 3,
     "metadata": {},
     "output_type": "execute_result"
    }
   ],
   "source": [
    "traffic_data.head()"
   ]
  },
  {
   "cell_type": "code",
   "execution_count": 4,
   "id": "4bec85fc",
   "metadata": {},
   "outputs": [
    {
     "data": {
      "text/plain": [
       "holiday                0\n",
       "temp                   0\n",
       "rain_1h                0\n",
       "snow_1h                0\n",
       "clouds_all             0\n",
       "weather_main           0\n",
       "weather_description    0\n",
       "traffic_volume         0\n",
       "dtype: int64"
      ]
     },
     "execution_count": 4,
     "metadata": {},
     "output_type": "execute_result"
    }
   ],
   "source": [
    "# Checking for any missing or empty value\n",
    "traffic_data.isna().sum()"
   ]
  },
  {
   "cell_type": "markdown",
   "id": "227a4161",
   "metadata": {},
   "source": [
    "# convert categorical to nominal data"
   ]
  },
  {
   "cell_type": "code",
   "execution_count": 5,
   "id": "1fe7954f",
   "metadata": {},
   "outputs": [],
   "source": [
    "# Convert categorical value to numerical values. For holiday attribute, value will be within by 0 and 1. If it is holiday then 1 otherwise 0\n",
    "label_encoder = preprocessing.LabelEncoder()\n",
    "traffic_data['holiday'] = np.where(traffic_data.holiday=='None',0,1).astype('int64')\n",
    "traffic_data['weather_main'] = label_encoder.fit_transform(traffic_data['weather_main'])\n",
    "traffic_data['weather_description'] = label_encoder.fit_transform(traffic_data['weather_description'])"
   ]
  },
  {
   "cell_type": "code",
   "execution_count": 6,
   "id": "4493e080",
   "metadata": {},
   "outputs": [
    {
     "data": {
      "text/html": [
       "<div>\n",
       "<style scoped>\n",
       "    .dataframe tbody tr th:only-of-type {\n",
       "        vertical-align: middle;\n",
       "    }\n",
       "\n",
       "    .dataframe tbody tr th {\n",
       "        vertical-align: top;\n",
       "    }\n",
       "\n",
       "    .dataframe thead th {\n",
       "        text-align: right;\n",
       "    }\n",
       "</style>\n",
       "<table border=\"1\" class=\"dataframe\">\n",
       "  <thead>\n",
       "    <tr style=\"text-align: right;\">\n",
       "      <th></th>\n",
       "      <th>holiday</th>\n",
       "      <th>temp</th>\n",
       "      <th>rain_1h</th>\n",
       "      <th>snow_1h</th>\n",
       "      <th>clouds_all</th>\n",
       "      <th>weather_main</th>\n",
       "      <th>weather_description</th>\n",
       "      <th>traffic_volume</th>\n",
       "    </tr>\n",
       "  </thead>\n",
       "  <tbody>\n",
       "    <tr>\n",
       "      <th>count</th>\n",
       "      <td>48204.000000</td>\n",
       "      <td>48204.000000</td>\n",
       "      <td>48204.000000</td>\n",
       "      <td>48204.000000</td>\n",
       "      <td>48204.000000</td>\n",
       "      <td>48204.000000</td>\n",
       "      <td>48204.000000</td>\n",
       "      <td>48204.000000</td>\n",
       "    </tr>\n",
       "    <tr>\n",
       "      <th>mean</th>\n",
       "      <td>0.001265</td>\n",
       "      <td>281.205870</td>\n",
       "      <td>0.334264</td>\n",
       "      <td>0.000222</td>\n",
       "      <td>49.362231</td>\n",
       "      <td>2.578375</td>\n",
       "      <td>16.540536</td>\n",
       "      <td>3259.818355</td>\n",
       "    </tr>\n",
       "    <tr>\n",
       "      <th>std</th>\n",
       "      <td>0.035551</td>\n",
       "      <td>13.338232</td>\n",
       "      <td>44.789133</td>\n",
       "      <td>0.008168</td>\n",
       "      <td>39.015750</td>\n",
       "      <td>2.784224</td>\n",
       "      <td>8.970108</td>\n",
       "      <td>1986.860670</td>\n",
       "    </tr>\n",
       "    <tr>\n",
       "      <th>min</th>\n",
       "      <td>0.000000</td>\n",
       "      <td>0.000000</td>\n",
       "      <td>0.000000</td>\n",
       "      <td>0.000000</td>\n",
       "      <td>0.000000</td>\n",
       "      <td>0.000000</td>\n",
       "      <td>0.000000</td>\n",
       "      <td>0.000000</td>\n",
       "    </tr>\n",
       "    <tr>\n",
       "      <th>25%</th>\n",
       "      <td>0.000000</td>\n",
       "      <td>272.160000</td>\n",
       "      <td>0.000000</td>\n",
       "      <td>0.000000</td>\n",
       "      <td>1.000000</td>\n",
       "      <td>0.000000</td>\n",
       "      <td>10.000000</td>\n",
       "      <td>1193.000000</td>\n",
       "    </tr>\n",
       "    <tr>\n",
       "      <th>50%</th>\n",
       "      <td>0.000000</td>\n",
       "      <td>282.450000</td>\n",
       "      <td>0.000000</td>\n",
       "      <td>0.000000</td>\n",
       "      <td>64.000000</td>\n",
       "      <td>1.000000</td>\n",
       "      <td>17.000000</td>\n",
       "      <td>3380.000000</td>\n",
       "    </tr>\n",
       "    <tr>\n",
       "      <th>75%</th>\n",
       "      <td>0.000000</td>\n",
       "      <td>291.806000</td>\n",
       "      <td>0.000000</td>\n",
       "      <td>0.000000</td>\n",
       "      <td>90.000000</td>\n",
       "      <td>5.000000</td>\n",
       "      <td>27.000000</td>\n",
       "      <td>4933.000000</td>\n",
       "    </tr>\n",
       "    <tr>\n",
       "      <th>max</th>\n",
       "      <td>1.000000</td>\n",
       "      <td>310.070000</td>\n",
       "      <td>9831.300000</td>\n",
       "      <td>0.510000</td>\n",
       "      <td>100.000000</td>\n",
       "      <td>10.000000</td>\n",
       "      <td>37.000000</td>\n",
       "      <td>7280.000000</td>\n",
       "    </tr>\n",
       "  </tbody>\n",
       "</table>\n",
       "</div>"
      ],
      "text/plain": [
       "            holiday          temp       rain_1h       snow_1h    clouds_all  \\\n",
       "count  48204.000000  48204.000000  48204.000000  48204.000000  48204.000000   \n",
       "mean       0.001265    281.205870      0.334264      0.000222     49.362231   \n",
       "std        0.035551     13.338232     44.789133      0.008168     39.015750   \n",
       "min        0.000000      0.000000      0.000000      0.000000      0.000000   \n",
       "25%        0.000000    272.160000      0.000000      0.000000      1.000000   \n",
       "50%        0.000000    282.450000      0.000000      0.000000     64.000000   \n",
       "75%        0.000000    291.806000      0.000000      0.000000     90.000000   \n",
       "max        1.000000    310.070000   9831.300000      0.510000    100.000000   \n",
       "\n",
       "       weather_main  weather_description  traffic_volume  \n",
       "count  48204.000000         48204.000000    48204.000000  \n",
       "mean       2.578375            16.540536     3259.818355  \n",
       "std        2.784224             8.970108     1986.860670  \n",
       "min        0.000000             0.000000        0.000000  \n",
       "25%        0.000000            10.000000     1193.000000  \n",
       "50%        1.000000            17.000000     3380.000000  \n",
       "75%        5.000000            27.000000     4933.000000  \n",
       "max       10.000000            37.000000     7280.000000  "
      ]
     },
     "execution_count": 6,
     "metadata": {},
     "output_type": "execute_result"
    }
   ],
   "source": [
    "traffic_data.describe()"
   ]
  },
  {
   "cell_type": "code",
   "execution_count": 7,
   "id": "ddf67ce1",
   "metadata": {},
   "outputs": [
    {
     "data": {
      "text/plain": [
       "<AxesSubplot:xlabel='date_time'>"
      ]
     },
     "execution_count": 7,
     "metadata": {},
     "output_type": "execute_result"
    },
    {
     "data": {
      "image/png": "[encoded data removed]",
      "text/plain": [
       "<Figure size 640x480 with 1 Axes>"
      ]
     },
     "metadata": {},
     "output_type": "display_data"
    }
   ],
   "source": [
    "#traffic_data['temp'].plot()\n",
    "traffic_data['rain_1h'].plot()"
   ]
  },
  {
   "cell_type": "code",
   "execution_count": 8,
   "id": "7fd6f7f4",
   "metadata": {},
   "outputs": [
    {
     "data": {
      "text/plain": [
       "<AxesSubplot:xlabel='date_time'>"
      ]
     },
     "execution_count": 8,
     "metadata": {},
     "output_type": "execute_result"
    },
    {
     "data": {
      "image/png": "[encoded data removed]",
      "text/plain": [
       "<Figure size 640x480 with 1 Axes>"
      ]
     },
     "metadata": {},
     "output_type": "display_data"
    }
   ],
   "source": [
    "traffic_data['temp'].plot()"
   ]
  },
  {
   "cell_type": "code",
   "execution_count": 9,
   "id": "9cf54f98",
   "metadata": {},
   "outputs": [
    {
     "name": "stdout",
     "output_type": "stream",
     "text": [
      "holiday                   0.000\n",
      "temp                     19.646\n",
      "rain_1h                   0.000\n",
      "snow_1h                   0.000\n",
      "clouds_all               89.000\n",
      "weather_main              5.000\n",
      "weather_description      17.000\n",
      "traffic_volume         3740.000\n",
      "dtype: float64\n"
     ]
    }
   ],
   "source": [
    "Q1 = traffic_data.quantile(0.25)\n",
    "Q3 = traffic_data.quantile(0.75)\n",
    "IQR = Q3 - Q1\n",
    "print(IQR)"
   ]
  },
  {
   "cell_type": "code",
   "execution_count": 10,
   "id": "1bbba1bd",
   "metadata": {},
   "outputs": [],
   "source": [
    "traffic_data=traffic_data[~((traffic_data['temp'] <(Q1['temp']-1.5*IQR['temp'])) | (traffic_data['temp'] >(Q1['temp']+1.5*IQR['temp'])))]\n",
    "#traffic_data=traffic_data[~((traffic_data['rain_1h'] <(Q1['rain_1h']-1.5*IQR['rain_1h'])) | (traffic_data['rain_1h'] >(Q1['rain_1h']+1.5*IQR['rain_1h'])))]"
   ]
  },
  {
   "cell_type": "markdown",
   "id": "cfcc92f4",
   "metadata": {},
   "source": [
    "# Prepare training and testing data"
   ]
  },
  {
   "cell_type": "code",
   "execution_count": 11,
   "id": "45783ad3",
   "metadata": {},
   "outputs": [
    {
     "data": {
      "text/plain": [
       "<AxesSubplot:xlabel='date_time'>"
      ]
     },
     "execution_count": 11,
     "metadata": {},
     "output_type": "execute_result"
    },
    {
     "data": {
      "image/png": "[encoded data removed]",
      "text/plain": [
       "<Figure size 640x480 with 1 Axes>"
      ]
     },
     "metadata": {},
     "output_type": "display_data"
    }
   ],
   "source": [
    "# ploting traffic data to see to see any data imbalance\n",
    "traffic_data['temp'].plot()"
   ]
  },
  {
   "cell_type": "code",
   "execution_count": 12,
   "id": "b0fbabbc",
   "metadata": {},
   "outputs": [
    {
     "data": {
      "text/plain": [
       "<AxesSubplot:xlabel='date_time'>"
      ]
     },
     "execution_count": 12,
     "metadata": {},
     "output_type": "execute_result"
    },
    {
     "data": {
      "image/png": "[encoded data removed]",
      "text/plain": [
       "<Figure size 640x480 with 1 Axes>"
      ]
     },
     "metadata": {},
     "output_type": "display_data"
    }
   ],
   "source": [
    "traffic_data['rain_1h'].plot()"
   ]
  },
  {
   "cell_type": "code",
   "execution_count": 13,
   "id": "51981809",
   "metadata": {},
   "outputs": [
    {
     "data": {
      "text/html": [
       "<div>\n",
       "<style scoped>\n",
       "    .dataframe tbody tr th:only-of-type {\n",
       "        vertical-align: middle;\n",
       "    }\n",
       "\n",
       "    .dataframe tbody tr th {\n",
       "        vertical-align: top;\n",
       "    }\n",
       "\n",
       "    .dataframe thead th {\n",
       "        text-align: right;\n",
       "    }\n",
       "</style>\n",
       "<table border=\"1\" class=\"dataframe\">\n",
       "  <thead>\n",
       "    <tr style=\"text-align: right;\">\n",
       "      <th></th>\n",
       "      <th>holiday</th>\n",
       "      <th>temp</th>\n",
       "      <th>rain_1h</th>\n",
       "      <th>snow_1h</th>\n",
       "      <th>clouds_all</th>\n",
       "      <th>weather_main</th>\n",
       "      <th>weather_description</th>\n",
       "      <th>traffic_volume</th>\n",
       "    </tr>\n",
       "    <tr>\n",
       "      <th>date_time</th>\n",
       "      <th></th>\n",
       "      <th></th>\n",
       "      <th></th>\n",
       "      <th></th>\n",
       "      <th></th>\n",
       "      <th></th>\n",
       "      <th></th>\n",
       "      <th></th>\n",
       "    </tr>\n",
       "  </thead>\n",
       "  <tbody>\n",
       "    <tr>\n",
       "      <th>2012-10-02 09:00:00</th>\n",
       "      <td>0</td>\n",
       "      <td>288.28</td>\n",
       "      <td>0.0</td>\n",
       "      <td>0.0</td>\n",
       "      <td>40</td>\n",
       "      <td>1</td>\n",
       "      <td>24</td>\n",
       "      <td>5545</td>\n",
       "    </tr>\n",
       "    <tr>\n",
       "      <th>2012-10-02 10:00:00</th>\n",
       "      <td>0</td>\n",
       "      <td>289.36</td>\n",
       "      <td>0.0</td>\n",
       "      <td>0.0</td>\n",
       "      <td>75</td>\n",
       "      <td>1</td>\n",
       "      <td>2</td>\n",
       "      <td>4516</td>\n",
       "    </tr>\n",
       "    <tr>\n",
       "      <th>2012-10-02 11:00:00</th>\n",
       "      <td>0</td>\n",
       "      <td>289.58</td>\n",
       "      <td>0.0</td>\n",
       "      <td>0.0</td>\n",
       "      <td>90</td>\n",
       "      <td>1</td>\n",
       "      <td>19</td>\n",
       "      <td>4767</td>\n",
       "    </tr>\n",
       "    <tr>\n",
       "      <th>2012-10-02 12:00:00</th>\n",
       "      <td>0</td>\n",
       "      <td>290.13</td>\n",
       "      <td>0.0</td>\n",
       "      <td>0.0</td>\n",
       "      <td>90</td>\n",
       "      <td>1</td>\n",
       "      <td>19</td>\n",
       "      <td>5026</td>\n",
       "    </tr>\n",
       "    <tr>\n",
       "      <th>2012-10-02 13:00:00</th>\n",
       "      <td>0</td>\n",
       "      <td>291.14</td>\n",
       "      <td>0.0</td>\n",
       "      <td>0.0</td>\n",
       "      <td>75</td>\n",
       "      <td>1</td>\n",
       "      <td>2</td>\n",
       "      <td>4918</td>\n",
       "    </tr>\n",
       "    <tr>\n",
       "      <th>...</th>\n",
       "      <td>...</td>\n",
       "      <td>...</td>\n",
       "      <td>...</td>\n",
       "      <td>...</td>\n",
       "      <td>...</td>\n",
       "      <td>...</td>\n",
       "      <td>...</td>\n",
       "      <td>...</td>\n",
       "    </tr>\n",
       "    <tr>\n",
       "      <th>2018-09-30 19:00:00</th>\n",
       "      <td>0</td>\n",
       "      <td>283.45</td>\n",
       "      <td>0.0</td>\n",
       "      <td>0.0</td>\n",
       "      <td>75</td>\n",
       "      <td>1</td>\n",
       "      <td>2</td>\n",
       "      <td>3543</td>\n",
       "    </tr>\n",
       "    <tr>\n",
       "      <th>2018-09-30 20:00:00</th>\n",
       "      <td>0</td>\n",
       "      <td>282.76</td>\n",
       "      <td>0.0</td>\n",
       "      <td>0.0</td>\n",
       "      <td>90</td>\n",
       "      <td>1</td>\n",
       "      <td>19</td>\n",
       "      <td>2781</td>\n",
       "    </tr>\n",
       "    <tr>\n",
       "      <th>2018-09-30 21:00:00</th>\n",
       "      <td>0</td>\n",
       "      <td>282.73</td>\n",
       "      <td>0.0</td>\n",
       "      <td>0.0</td>\n",
       "      <td>90</td>\n",
       "      <td>10</td>\n",
       "      <td>21</td>\n",
       "      <td>2159</td>\n",
       "    </tr>\n",
       "    <tr>\n",
       "      <th>2018-09-30 22:00:00</th>\n",
       "      <td>0</td>\n",
       "      <td>282.09</td>\n",
       "      <td>0.0</td>\n",
       "      <td>0.0</td>\n",
       "      <td>90</td>\n",
       "      <td>1</td>\n",
       "      <td>19</td>\n",
       "      <td>1450</td>\n",
       "    </tr>\n",
       "    <tr>\n",
       "      <th>2018-09-30 23:00:00</th>\n",
       "      <td>0</td>\n",
       "      <td>282.12</td>\n",
       "      <td>0.0</td>\n",
       "      <td>0.0</td>\n",
       "      <td>90</td>\n",
       "      <td>1</td>\n",
       "      <td>19</td>\n",
       "      <td>954</td>\n",
       "    </tr>\n",
       "  </tbody>\n",
       "</table>\n",
       "<p>47284 rows × 8 columns</p>\n",
       "</div>"
      ],
      "text/plain": [
       "                     holiday    temp  rain_1h  snow_1h  clouds_all  \\\n",
       "date_time                                                            \n",
       "2012-10-02 09:00:00        0  288.28      0.0      0.0          40   \n",
       "2012-10-02 10:00:00        0  289.36      0.0      0.0          75   \n",
       "2012-10-02 11:00:00        0  289.58      0.0      0.0          90   \n",
       "2012-10-02 12:00:00        0  290.13      0.0      0.0          90   \n",
       "2012-10-02 13:00:00        0  291.14      0.0      0.0          75   \n",
       "...                      ...     ...      ...      ...         ...   \n",
       "2018-09-30 19:00:00        0  283.45      0.0      0.0          75   \n",
       "2018-09-30 20:00:00        0  282.76      0.0      0.0          90   \n",
       "2018-09-30 21:00:00        0  282.73      0.0      0.0          90   \n",
       "2018-09-30 22:00:00        0  282.09      0.0      0.0          90   \n",
       "2018-09-30 23:00:00        0  282.12      0.0      0.0          90   \n",
       "\n",
       "                     weather_main  weather_description  traffic_volume  \n",
       "date_time                                                               \n",
       "2012-10-02 09:00:00             1                   24            5545  \n",
       "2012-10-02 10:00:00             1                    2            4516  \n",
       "2012-10-02 11:00:00             1                   19            4767  \n",
       "2012-10-02 12:00:00             1                   19            5026  \n",
       "2012-10-02 13:00:00             1                    2            4918  \n",
       "...                           ...                  ...             ...  \n",
       "2018-09-30 19:00:00             1                    2            3543  \n",
       "2018-09-30 20:00:00             1                   19            2781  \n",
       "2018-09-30 21:00:00            10                   21            2159  \n",
       "2018-09-30 22:00:00             1                   19            1450  \n",
       "2018-09-30 23:00:00             1                   19             954  \n",
       "\n",
       "[47284 rows x 8 columns]"
      ]
     },
     "execution_count": 13,
     "metadata": {},
     "output_type": "execute_result"
    }
   ],
   "source": [
    "\n",
    "traffic_data"
   ]
  },
  {
   "cell_type": "code",
   "execution_count": 14,
   "id": "d79f1112",
   "metadata": {},
   "outputs": [],
   "source": [
    "# Values of the attribute are in different scales. For example, holiday has maximum value 1 and traffic volume let say, 2000. Since these values are totally different range, it might be hurt model learning process. To overcome this issue, we need to do data normalization or standarization.\n",
    "sc = MinMaxScaler()\n",
    "data_set = sc.fit_transform(traffic_data)\n",
    "data_frame = pd.DataFrame(data_set)\n"
   ]
  },
  {
   "cell_type": "code",
   "execution_count": null,
   "id": "56c21344",
   "metadata": {},
   "outputs": [],
   "source": []
  },
  {
   "cell_type": "code",
   "execution_count": 15,
   "id": "4ee4f23a",
   "metadata": {},
   "outputs": [
    {
     "data": {
      "text/plain": [
       "((47274, 10, 8), (47274,))"
      ]
     },
     "execution_count": 15,
     "metadata": {},
     "output_type": "execute_result"
    }
   ],
   "source": [
    "# Make data for the LSTM model. I used past t-hours of data to predict the next 'n' hours data. Here window_size means window size data will be used for predicting next 'n' hours data\n",
    "\n",
    "def df_to_x_y(data, window_size=5):\n",
    "    X = []\n",
    "    y = []\n",
    "    for i in range(len(data)-window_size):\n",
    "        row = [r for r in data[i:i+window_size]]\n",
    "        X.append(row)\n",
    "        label = data[i+window_size][7]\n",
    "        y.append(label)\n",
    "    return np.array(X), np.array(y)\n",
    "\n",
    "X, y = df_to_x_y(data_set,10)\n",
    "X.shape, y.shape"
   ]
  },
  {
   "cell_type": "code",
   "execution_count": 16,
   "id": "5204aedb",
   "metadata": {},
   "outputs": [
    {
     "name": "stdout",
     "output_type": "stream",
     "text": [
      "37819 4727 42546\n"
     ]
    }
   ],
   "source": [
    "# split data into train test and validation datase\n",
    "from cgi import test\n",
    "\n",
    "\n",
    "train_length = int(len(X)*0.8) # 80% trainging\n",
    "test_length = int(len(X)*.10) # 10% testing and rest for validation\n",
    "print(train_length, test_length, (train_length+test_length))\n",
    "X_train, y_train = X[:train_length],y[:train_length]\n",
    "X_val, y_val = X[train_length:(train_length+test_length)], y[train_length:(train_length+test_length)]\n",
    "X_test, y_test = X[(train_length+test_length):], y[(train_length+test_length):]"
   ]
  },
  {
   "cell_type": "code",
   "execution_count": 17,
   "id": "c88e850d",
   "metadata": {},
   "outputs": [
    {
     "data": {
      "text/plain": [
       "(((37819, 10, 8), (37819,)),\n",
       " ((4728, 10, 8), (4728,)),\n",
       " ((4727, 10, 8), (4727,)))"
      ]
     },
     "execution_count": 17,
     "metadata": {},
     "output_type": "execute_result"
    }
   ],
   "source": [
    "(X_train.shape, y_train.shape), (X_test.shape, y_test.shape), (X_val.shape, y_val.shape)\n"
   ]
  },
  {
   "cell_type": "code",
   "execution_count": 18,
   "id": "e0d5a1af",
   "metadata": {},
   "outputs": [
    {
     "name": "stdout",
     "output_type": "stream",
     "text": [
      "Metal device set to: Apple M1\n"
     ]
    },
    {
     "name": "stderr",
     "output_type": "stream",
     "text": [
      "2022-11-08 11:22:09.409313: I tensorflow/core/common_runtime/pluggable_device/pluggable_device_factory.cc:305] Could not identify NUMA node of platform GPU ID 0, defaulting to 0. Your kernel may not have been built with NUMA support.\n",
      "2022-11-08 11:22:09.409408: I tensorflow/core/common_runtime/pluggable_device/pluggable_device_factory.cc:271] Created TensorFlow device (/job:localhost/replica:0/task:0/device:GPU:0 with 0 MB memory) -> physical PluggableDevice (device: 0, name: METAL, pci bus id: <undefined>)\n"
     ]
    }
   ],
   "source": [
    "#define model:\n",
    "from tensorflow.keras.models import Sequential\n",
    "from tensorflow.keras.layers import *\n",
    "from tensorflow.keras.callbacks import ModelCheckpoint\n",
    "from tensorflow.keras.losses import MeanSquaredError\n",
    "from tensorflow.keras.metrics import RootMeanSquaredError\n",
    "from tensorflow.keras.optimizers import Adam\n",
    "\n",
    "model = Sequential()\n",
    "model.add(InputLayer((10,8)))\n",
    "model.add(LSTM(10, return_sequences=True))\n",
    "model.add(LSTM(10, return_sequences=True))\n",
    "model.add(LSTM(10))\n",
    "model.add(Dense(10,'relu'))\n",
    "model.add(Dense(1,'linear'))\n"
   ]
  },
  {
   "cell_type": "code",
   "execution_count": 19,
   "id": "24ac1551",
   "metadata": {},
   "outputs": [],
   "source": [
    "cp = ModelCheckpoint('model/', save_best_only=True)\n",
    "model.compile(loss=MeanSquaredError(), optimizer=Adam(learning_rate=0.0001))\n"
   ]
  },
  {
   "cell_type": "code",
   "execution_count": null,
   "id": "8b1cdfed",
   "metadata": {},
   "outputs": [],
   "source": []
  },
  {
   "cell_type": "code",
   "execution_count": null,
   "id": "552865f5",
   "metadata": {},
   "outputs": [
    {
     "name": "stdout",
     "output_type": "stream",
     "text": [
      "Epoch 1/200\n",
      "2364/2364 [==============================] - ETA: 0s - loss: 0.0077"
     ]
    },
    {
     "name": "stderr",
     "output_type": "stream",
     "text": [
      "WARNING:absl:Found untraced functions such as lstm_cell_layer_call_fn, lstm_cell_layer_call_and_return_conditional_losses, lstm_cell_1_layer_call_fn, lstm_cell_1_layer_call_and_return_conditional_losses, lstm_cell_2_layer_call_fn while saving (showing 5 of 6). These functions will not be directly callable after loading.\n"
     ]
    },
    {
     "name": "stdout",
     "output_type": "stream",
     "text": [
      "INFO:tensorflow:Assets written to: model/assets\n"
     ]
    },
    {
     "name": "stderr",
     "output_type": "stream",
     "text": [
      "INFO:tensorflow:Assets written to: model/assets\n"
     ]
    },
    {
     "name": "stdout",
     "output_type": "stream",
     "text": [
      "2364/2364 [==============================] - 53s 22ms/step - loss: 0.0077 - val_loss: 0.0047\n",
      "Epoch 2/200\n",
      "2364/2364 [==============================] - 41s 17ms/step - loss: 0.0076 - val_loss: 0.0047\n",
      "Epoch 3/200\n",
      "2363/2364 [============================>.] - ETA: 0s - loss: 0.0076"
     ]
    },
    {
     "name": "stderr",
     "output_type": "stream",
     "text": [
      "WARNING:absl:Found untraced functions such as lstm_cell_layer_call_fn, lstm_cell_layer_call_and_return_conditional_losses, lstm_cell_1_layer_call_fn, lstm_cell_1_layer_call_and_return_conditional_losses, lstm_cell_2_layer_call_fn while saving (showing 5 of 6). These functions will not be directly callable after loading.\n"
     ]
    },
    {
     "name": "stdout",
     "output_type": "stream",
     "text": [
      "INFO:tensorflow:Assets written to: model/assets\n"
     ]
    },
    {
     "name": "stderr",
     "output_type": "stream",
     "text": [
      "INFO:tensorflow:Assets written to: model/assets\n"
     ]
    },
    {
     "name": "stdout",
     "output_type": "stream",
     "text": [
      "2364/2364 [==============================] - 50s 21ms/step - loss: 0.0076 - val_loss: 0.0047\n",
      "Epoch 4/200\n",
      "2364/2364 [==============================] - 39s 17ms/step - loss: 0.0076 - val_loss: 0.0047\n",
      "Epoch 5/200\n",
      "2362/2364 [============================>.] - ETA: 0s - loss: 0.0076"
     ]
    },
    {
     "name": "stderr",
     "output_type": "stream",
     "text": [
      "WARNING:absl:Found untraced functions such as lstm_cell_layer_call_fn, lstm_cell_layer_call_and_return_conditional_losses, lstm_cell_1_layer_call_fn, lstm_cell_1_layer_call_and_return_conditional_losses, lstm_cell_2_layer_call_fn while saving (showing 5 of 6). These functions will not be directly callable after loading.\n"
     ]
    },
    {
     "name": "stdout",
     "output_type": "stream",
     "text": [
      "INFO:tensorflow:Assets written to: model/assets\n"
     ]
    },
    {
     "name": "stderr",
     "output_type": "stream",
     "text": [
      "INFO:tensorflow:Assets written to: model/assets\n"
     ]
    },
    {
     "name": "stdout",
     "output_type": "stream",
     "text": [
      "2364/2364 [==============================] - 51s 22ms/step - loss: 0.0076 - val_loss: 0.0046\n",
      "Epoch 6/200\n",
      "2363/2364 [============================>.] - ETA: 0s - loss: 0.0075"
     ]
    },
    {
     "name": "stderr",
     "output_type": "stream",
     "text": [
      "WARNING:absl:Found untraced functions such as lstm_cell_layer_call_fn, lstm_cell_layer_call_and_return_conditional_losses, lstm_cell_1_layer_call_fn, lstm_cell_1_layer_call_and_return_conditional_losses, lstm_cell_2_layer_call_fn while saving (showing 5 of 6). These functions will not be directly callable after loading.\n"
     ]
    },
    {
     "name": "stdout",
     "output_type": "stream",
     "text": [
      "INFO:tensorflow:Assets written to: model/assets\n"
     ]
    },
    {
     "name": "stderr",
     "output_type": "stream",
     "text": [
      "INFO:tensorflow:Assets written to: model/assets\n"
     ]
    },
    {
     "name": "stdout",
     "output_type": "stream",
     "text": [
      "2364/2364 [==============================] - 48s 20ms/step - loss: 0.0075 - val_loss: 0.0046\n",
      "Epoch 7/200\n",
      "2364/2364 [==============================] - 38s 16ms/step - loss: 0.0075 - val_loss: 0.0048\n",
      "Epoch 8/200\n",
      "2364/2364 [==============================] - 40s 17ms/step - loss: 0.0075 - val_loss: 0.0046\n",
      "Epoch 9/200\n",
      "2363/2364 [============================>.] - ETA: 0s - loss: 0.0074"
     ]
    },
    {
     "name": "stderr",
     "output_type": "stream",
     "text": [
      "WARNING:absl:Found untraced functions such as lstm_cell_layer_call_fn, lstm_cell_layer_call_and_return_conditional_losses, lstm_cell_1_layer_call_fn, lstm_cell_1_layer_call_and_return_conditional_losses, lstm_cell_2_layer_call_fn while saving (showing 5 of 6). These functions will not be directly callable after loading.\n"
     ]
    },
    {
     "name": "stdout",
     "output_type": "stream",
     "text": [
      "INFO:tensorflow:Assets written to: model/assets\n"
     ]
    },
    {
     "name": "stderr",
     "output_type": "stream",
     "text": [
      "INFO:tensorflow:Assets written to: model/assets\n"
     ]
    },
    {
     "name": "stdout",
     "output_type": "stream",
     "text": [
      "2364/2364 [==============================] - 48s 20ms/step - loss: 0.0074 - val_loss: 0.0045\n",
      "Epoch 10/200\n",
      "2364/2364 [==============================] - 38s 16ms/step - loss: 0.0074 - val_loss: 0.0048\n",
      "Epoch 11/200\n",
      "2364/2364 [==============================] - ETA: 0s - loss: 0.0074"
     ]
    },
    {
     "name": "stderr",
     "output_type": "stream",
     "text": [
      "WARNING:absl:Found untraced functions such as lstm_cell_layer_call_fn, lstm_cell_layer_call_and_return_conditional_losses, lstm_cell_1_layer_call_fn, lstm_cell_1_layer_call_and_return_conditional_losses, lstm_cell_2_layer_call_fn while saving (showing 5 of 6). These functions will not be directly callable after loading.\n"
     ]
    },
    {
     "name": "stdout",
     "output_type": "stream",
     "text": [
      "INFO:tensorflow:Assets written to: model/assets\n"
     ]
    },
    {
     "name": "stderr",
     "output_type": "stream",
     "text": [
      "INFO:tensorflow:Assets written to: model/assets\n"
     ]
    },
    {
     "name": "stdout",
     "output_type": "stream",
     "text": [
      "2364/2364 [==============================] - 50s 21ms/step - loss: 0.0074 - val_loss: 0.0045\n",
      "Epoch 12/200\n",
      "2364/2364 [==============================] - 38s 16ms/step - loss: 0.0073 - val_loss: 0.0048\n",
      "Epoch 13/200\n",
      "2363/2364 [============================>.] - ETA: 0s - loss: 0.0073"
     ]
    },
    {
     "name": "stderr",
     "output_type": "stream",
     "text": [
      "WARNING:absl:Found untraced functions such as lstm_cell_layer_call_fn, lstm_cell_layer_call_and_return_conditional_losses, lstm_cell_1_layer_call_fn, lstm_cell_1_layer_call_and_return_conditional_losses, lstm_cell_2_layer_call_fn while saving (showing 5 of 6). These functions will not be directly callable after loading.\n"
     ]
    },
    {
     "name": "stdout",
     "output_type": "stream",
     "text": [
      "INFO:tensorflow:Assets written to: model/assets\n"
     ]
    },
    {
     "name": "stderr",
     "output_type": "stream",
     "text": [
      "INFO:tensorflow:Assets written to: model/assets\n"
     ]
    },
    {
     "name": "stdout",
     "output_type": "stream",
     "text": [
      "2364/2364 [==============================] - 47s 20ms/step - loss: 0.0073 - val_loss: 0.0044\n",
      "Epoch 14/200\n",
      "2362/2364 [============================>.] - ETA: 0s - loss: 0.0073"
     ]
    },
    {
     "name": "stderr",
     "output_type": "stream",
     "text": [
      "WARNING:absl:Found untraced functions such as lstm_cell_layer_call_fn, lstm_cell_layer_call_and_return_conditional_losses, lstm_cell_1_layer_call_fn, lstm_cell_1_layer_call_and_return_conditional_losses, lstm_cell_2_layer_call_fn while saving (showing 5 of 6). These functions will not be directly callable after loading.\n"
     ]
    },
    {
     "name": "stdout",
     "output_type": "stream",
     "text": [
      "INFO:tensorflow:Assets written to: model/assets\n"
     ]
    },
    {
     "name": "stderr",
     "output_type": "stream",
     "text": [
      "INFO:tensorflow:Assets written to: model/assets\n"
     ]
    },
    {
     "name": "stdout",
     "output_type": "stream",
     "text": [
      "2364/2364 [==============================] - 50s 21ms/step - loss: 0.0073 - val_loss: 0.0044\n",
      "Epoch 15/200\n",
      "2363/2364 [============================>.] - ETA: 0s - loss: 0.0072"
     ]
    },
    {
     "name": "stderr",
     "output_type": "stream",
     "text": [
      "WARNING:absl:Found untraced functions such as lstm_cell_layer_call_fn, lstm_cell_layer_call_and_return_conditional_losses, lstm_cell_1_layer_call_fn, lstm_cell_1_layer_call_and_return_conditional_losses, lstm_cell_2_layer_call_fn while saving (showing 5 of 6). These functions will not be directly callable after loading.\n"
     ]
    },
    {
     "name": "stdout",
     "output_type": "stream",
     "text": [
      "INFO:tensorflow:Assets written to: model/assets\n"
     ]
    },
    {
     "name": "stderr",
     "output_type": "stream",
     "text": [
      "INFO:tensorflow:Assets written to: model/assets\n"
     ]
    },
    {
     "name": "stdout",
     "output_type": "stream",
     "text": [
      "2364/2364 [==============================] - 48s 20ms/step - loss: 0.0072 - val_loss: 0.0044\n",
      "Epoch 16/200\n",
      "2363/2364 [============================>.] - ETA: 0s - loss: 0.0072"
     ]
    },
    {
     "name": "stderr",
     "output_type": "stream",
     "text": [
      "WARNING:absl:Found untraced functions such as lstm_cell_layer_call_fn, lstm_cell_layer_call_and_return_conditional_losses, lstm_cell_1_layer_call_fn, lstm_cell_1_layer_call_and_return_conditional_losses, lstm_cell_2_layer_call_fn while saving (showing 5 of 6). These functions will not be directly callable after loading.\n"
     ]
    },
    {
     "name": "stdout",
     "output_type": "stream",
     "text": [
      "INFO:tensorflow:Assets written to: model/assets\n"
     ]
    },
    {
     "name": "stderr",
     "output_type": "stream",
     "text": [
      "INFO:tensorflow:Assets written to: model/assets\n"
     ]
    },
    {
     "name": "stdout",
     "output_type": "stream",
     "text": [
      "2364/2364 [==============================] - 47s 20ms/step - loss: 0.0072 - val_loss: 0.0043\n",
      "Epoch 17/200\n",
      "2363/2364 [============================>.] - ETA: 0s - loss: 0.0072"
     ]
    },
    {
     "name": "stderr",
     "output_type": "stream",
     "text": [
      "WARNING:absl:Found untraced functions such as lstm_cell_layer_call_fn, lstm_cell_layer_call_and_return_conditional_losses, lstm_cell_1_layer_call_fn, lstm_cell_1_layer_call_and_return_conditional_losses, lstm_cell_2_layer_call_fn while saving (showing 5 of 6). These functions will not be directly callable after loading.\n"
     ]
    },
    {
     "name": "stdout",
     "output_type": "stream",
     "text": [
      "INFO:tensorflow:Assets written to: model/assets\n"
     ]
    },
    {
     "name": "stderr",
     "output_type": "stream",
     "text": [
      "INFO:tensorflow:Assets written to: model/assets\n"
     ]
    },
    {
     "name": "stdout",
     "output_type": "stream",
     "text": [
      "2364/2364 [==============================] - 50s 21ms/step - loss: 0.0072 - val_loss: 0.0042\n",
      "Epoch 18/200\n",
      "2364/2364 [==============================] - 38s 16ms/step - loss: 0.0072 - val_loss: 0.0043\n",
      "Epoch 19/200\n",
      "2362/2364 [============================>.] - ETA: 0s - loss: 0.0071"
     ]
    },
    {
     "name": "stderr",
     "output_type": "stream",
     "text": [
      "WARNING:absl:Found untraced functions such as lstm_cell_layer_call_fn, lstm_cell_layer_call_and_return_conditional_losses, lstm_cell_1_layer_call_fn, lstm_cell_1_layer_call_and_return_conditional_losses, lstm_cell_2_layer_call_fn while saving (showing 5 of 6). These functions will not be directly callable after loading.\n"
     ]
    },
    {
     "name": "stdout",
     "output_type": "stream",
     "text": [
      "INFO:tensorflow:Assets written to: model/assets\n"
     ]
    },
    {
     "name": "stderr",
     "output_type": "stream",
     "text": [
      "INFO:tensorflow:Assets written to: model/assets\n"
     ]
    },
    {
     "name": "stdout",
     "output_type": "stream",
     "text": [
      "2364/2364 [==============================] - 48s 20ms/step - loss: 0.0071 - val_loss: 0.0042\n",
      "Epoch 20/200\n",
      "2364/2364 [==============================] - ETA: 0s - loss: 0.0071"
     ]
    },
    {
     "name": "stderr",
     "output_type": "stream",
     "text": [
      "WARNING:absl:Found untraced functions such as lstm_cell_layer_call_fn, lstm_cell_layer_call_and_return_conditional_losses, lstm_cell_1_layer_call_fn, lstm_cell_1_layer_call_and_return_conditional_losses, lstm_cell_2_layer_call_fn while saving (showing 5 of 6). These functions will not be directly callable after loading.\n"
     ]
    },
    {
     "name": "stdout",
     "output_type": "stream",
     "text": [
      "INFO:tensorflow:Assets written to: model/assets\n"
     ]
    },
    {
     "name": "stderr",
     "output_type": "stream",
     "text": [
      "INFO:tensorflow:Assets written to: model/assets\n"
     ]
    },
    {
     "name": "stdout",
     "output_type": "stream",
     "text": [
      "2364/2364 [==============================] - 48s 21ms/step - loss: 0.0071 - val_loss: 0.0042\n",
      "Epoch 21/200\n",
      "2364/2364 [==============================] - 41s 17ms/step - loss: 0.0071 - val_loss: 0.0042\n",
      "Epoch 22/200\n",
      "2364/2364 [==============================] - 39s 17ms/step - loss: 0.0070 - val_loss: 0.0043\n",
      "Epoch 23/200\n",
      "2364/2364 [==============================] - 39s 16ms/step - loss: 0.0070 - val_loss: 0.0043\n",
      "Epoch 24/200\n",
      "2364/2364 [==============================] - 39s 16ms/step - loss: 0.0070 - val_loss: 0.0042\n",
      "Epoch 25/200\n",
      "2363/2364 [============================>.] - ETA: 0s - loss: 0.0070"
     ]
    },
    {
     "name": "stderr",
     "output_type": "stream",
     "text": [
      "WARNING:absl:Found untraced functions such as lstm_cell_layer_call_fn, lstm_cell_layer_call_and_return_conditional_losses, lstm_cell_1_layer_call_fn, lstm_cell_1_layer_call_and_return_conditional_losses, lstm_cell_2_layer_call_fn while saving (showing 5 of 6). These functions will not be directly callable after loading.\n"
     ]
    },
    {
     "name": "stdout",
     "output_type": "stream",
     "text": [
      "INFO:tensorflow:Assets written to: model/assets\n"
     ]
    },
    {
     "name": "stderr",
     "output_type": "stream",
     "text": [
      "INFO:tensorflow:Assets written to: model/assets\n"
     ]
    },
    {
     "name": "stdout",
     "output_type": "stream",
     "text": [
      "2364/2364 [==============================] - 51s 22ms/step - loss: 0.0070 - val_loss: 0.0041\n",
      "Epoch 26/200\n",
      "2364/2364 [==============================] - 39s 16ms/step - loss: 0.0069 - val_loss: 0.0042\n",
      "Epoch 27/200\n",
      "2363/2364 [============================>.] - ETA: 0s - loss: 0.0069"
     ]
    },
    {
     "name": "stderr",
     "output_type": "stream",
     "text": [
      "WARNING:absl:Found untraced functions such as lstm_cell_layer_call_fn, lstm_cell_layer_call_and_return_conditional_losses, lstm_cell_1_layer_call_fn, lstm_cell_1_layer_call_and_return_conditional_losses, lstm_cell_2_layer_call_fn while saving (showing 5 of 6). These functions will not be directly callable after loading.\n"
     ]
    },
    {
     "name": "stdout",
     "output_type": "stream",
     "text": [
      "INFO:tensorflow:Assets written to: model/assets\n"
     ]
    },
    {
     "name": "stderr",
     "output_type": "stream",
     "text": [
      "INFO:tensorflow:Assets written to: model/assets\n"
     ]
    },
    {
     "name": "stdout",
     "output_type": "stream",
     "text": [
      "2364/2364 [==============================] - 49s 21ms/step - loss: 0.0069 - val_loss: 0.0041\n",
      "Epoch 28/200\n",
      "2364/2364 [==============================] - 40s 17ms/step - loss: 0.0069 - val_loss: 0.0042\n",
      "Epoch 29/200\n",
      "2362/2364 [============================>.] - ETA: 0s - loss: 0.0069"
     ]
    },
    {
     "name": "stderr",
     "output_type": "stream",
     "text": [
      "WARNING:absl:Found untraced functions such as lstm_cell_layer_call_fn, lstm_cell_layer_call_and_return_conditional_losses, lstm_cell_1_layer_call_fn, lstm_cell_1_layer_call_and_return_conditional_losses, lstm_cell_2_layer_call_fn while saving (showing 5 of 6). These functions will not be directly callable after loading.\n"
     ]
    },
    {
     "name": "stdout",
     "output_type": "stream",
     "text": [
      "INFO:tensorflow:Assets written to: model/assets\n"
     ]
    },
    {
     "name": "stderr",
     "output_type": "stream",
     "text": [
      "INFO:tensorflow:Assets written to: model/assets\n"
     ]
    },
    {
     "name": "stdout",
     "output_type": "stream",
     "text": [
      "2364/2364 [==============================] - 48s 20ms/step - loss: 0.0069 - val_loss: 0.0040\n",
      "Epoch 30/200\n",
      "2364/2364 [==============================] - 39s 16ms/step - loss: 0.0068 - val_loss: 0.0041\n",
      "Epoch 31/200\n",
      "2362/2364 [============================>.] - ETA: 0s - loss: 0.0068"
     ]
    },
    {
     "name": "stderr",
     "output_type": "stream",
     "text": [
      "WARNING:absl:Found untraced functions such as lstm_cell_layer_call_fn, lstm_cell_layer_call_and_return_conditional_losses, lstm_cell_1_layer_call_fn, lstm_cell_1_layer_call_and_return_conditional_losses, lstm_cell_2_layer_call_fn while saving (showing 5 of 6). These functions will not be directly callable after loading.\n"
     ]
    },
    {
     "name": "stdout",
     "output_type": "stream",
     "text": [
      "INFO:tensorflow:Assets written to: model/assets\n"
     ]
    },
    {
     "name": "stderr",
     "output_type": "stream",
     "text": [
      "INFO:tensorflow:Assets written to: model/assets\n"
     ]
    },
    {
     "name": "stdout",
     "output_type": "stream",
     "text": [
      "2364/2364 [==============================] - 49s 21ms/step - loss: 0.0068 - val_loss: 0.0040\n",
      "Epoch 32/200\n",
      "2364/2364 [==============================] - ETA: 0s - loss: 0.0068"
     ]
    },
    {
     "name": "stderr",
     "output_type": "stream",
     "text": [
      "WARNING:absl:Found untraced functions such as lstm_cell_layer_call_fn, lstm_cell_layer_call_and_return_conditional_losses, lstm_cell_1_layer_call_fn, lstm_cell_1_layer_call_and_return_conditional_losses, lstm_cell_2_layer_call_fn while saving (showing 5 of 6). These functions will not be directly callable after loading.\n"
     ]
    },
    {
     "name": "stdout",
     "output_type": "stream",
     "text": [
      "INFO:tensorflow:Assets written to: model/assets\n"
     ]
    },
    {
     "name": "stderr",
     "output_type": "stream",
     "text": [
      "INFO:tensorflow:Assets written to: model/assets\n"
     ]
    },
    {
     "name": "stdout",
     "output_type": "stream",
     "text": [
      "2364/2364 [==============================] - 51s 21ms/step - loss: 0.0068 - val_loss: 0.0040\n",
      "Epoch 33/200\n",
      "2364/2364 [==============================] - 38s 16ms/step - loss: 0.0068 - val_loss: 0.0041\n",
      "Epoch 34/200\n",
      "2363/2364 [============================>.] - ETA: 0s - loss: 0.0068"
     ]
    },
    {
     "name": "stderr",
     "output_type": "stream",
     "text": [
      "WARNING:absl:Found untraced functions such as lstm_cell_layer_call_fn, lstm_cell_layer_call_and_return_conditional_losses, lstm_cell_1_layer_call_fn, lstm_cell_1_layer_call_and_return_conditional_losses, lstm_cell_2_layer_call_fn while saving (showing 5 of 6). These functions will not be directly callable after loading.\n"
     ]
    },
    {
     "name": "stdout",
     "output_type": "stream",
     "text": [
      "INFO:tensorflow:Assets written to: model/assets\n"
     ]
    },
    {
     "name": "stderr",
     "output_type": "stream",
     "text": [
      "INFO:tensorflow:Assets written to: model/assets\n"
     ]
    },
    {
     "name": "stdout",
     "output_type": "stream",
     "text": [
      "2364/2364 [==============================] - 48s 20ms/step - loss: 0.0068 - val_loss: 0.0040\n",
      "Epoch 35/200\n",
      "2364/2364 [==============================] - 41s 17ms/step - loss: 0.0067 - val_loss: 0.0040\n",
      "Epoch 36/200\n",
      "2364/2364 [==============================] - 40s 17ms/step - loss: 0.0067 - val_loss: 0.0040\n",
      "Epoch 37/200\n",
      "2364/2364 [==============================] - 39s 17ms/step - loss: 0.0067 - val_loss: 0.0040\n",
      "Epoch 38/200\n",
      "2364/2364 [==============================] - 39s 17ms/step - loss: 0.0067 - val_loss: 0.0041\n",
      "Epoch 39/200\n",
      "2364/2364 [==============================] - 42s 18ms/step - loss: 0.0066 - val_loss: 0.0040\n",
      "Epoch 40/200\n",
      "2364/2364 [==============================] - 40s 17ms/step - loss: 0.0066 - val_loss: 0.0041\n",
      "Epoch 41/200\n",
      "2363/2364 [============================>.] - ETA: 0s - loss: 0.0066"
     ]
    },
    {
     "name": "stderr",
     "output_type": "stream",
     "text": [
      "WARNING:absl:Found untraced functions such as lstm_cell_layer_call_fn, lstm_cell_layer_call_and_return_conditional_losses, lstm_cell_1_layer_call_fn, lstm_cell_1_layer_call_and_return_conditional_losses, lstm_cell_2_layer_call_fn while saving (showing 5 of 6). These functions will not be directly callable after loading.\n"
     ]
    },
    {
     "name": "stdout",
     "output_type": "stream",
     "text": [
      "INFO:tensorflow:Assets written to: model/assets\n"
     ]
    },
    {
     "name": "stderr",
     "output_type": "stream",
     "text": [
      "INFO:tensorflow:Assets written to: model/assets\n"
     ]
    },
    {
     "name": "stdout",
     "output_type": "stream",
     "text": [
      "2364/2364 [==============================] - 51s 22ms/step - loss: 0.0066 - val_loss: 0.0038\n",
      "Epoch 42/200\n",
      "2364/2364 [==============================] - 39s 16ms/step - loss: 0.0065 - val_loss: 0.0039\n",
      "Epoch 43/200\n",
      "2364/2364 [==============================] - 41s 18ms/step - loss: 0.0065 - val_loss: 0.0041\n",
      "Epoch 44/200\n",
      " 618/2364 [======>.......................] - ETA: 27s - loss: 0.0064"
     ]
    }
   ],
   "source": [
    "history = model.fit(X_train, y_train, validation_data=(X_val, y_val), epochs=200, callbacks=[cp], batch_size=16, verbose=1)"
   ]
  },
  {
   "cell_type": "code",
   "execution_count": 21,
   "id": "8061a459",
   "metadata": {},
   "outputs": [
    {
     "data": {
      "image/png": "[encoded data removed]",
      "text/plain": [
       "<Figure size 640x480 with 1 Axes>"
      ]
     },
     "metadata": {},
     "output_type": "display_data"
    }
   ],
   "source": [
    "\n",
    "# summarize history for loss\n",
    "plt.plot(history.history['loss'])\n",
    "plt.plot(history.history['val_loss'])\n",
    "plt.title('model loss')\n",
    "plt.ylabel('loss')\n",
    "plt.xlabel('epoch')\n",
    "plt.legend(['train', 'test'], loc='upper left')\n",
    "plt.show()"
   ]
  },
  {
   "cell_type": "code",
   "execution_count": 22,
   "id": "dcb53caf",
   "metadata": {},
   "outputs": [],
   "source": [
    "from tensorflow.keras.models import load_model\n",
    "m = load_model('model/')"
   ]
  },
  {
   "cell_type": "code",
   "execution_count": 23,
   "id": "d285b74b",
   "metadata": {},
   "outputs": [
    {
     "name": "stderr",
     "output_type": "stream",
     "text": [
      "2022-11-08 12:07:35.186656: I tensorflow/core/grappler/optimizers/custom_graph_optimizer_registry.cc:113] Plugin optimizer for device_type GPU is enabled.\n",
      "2022-11-08 12:07:35.318957: I tensorflow/core/grappler/optimizers/custom_graph_optimizer_registry.cc:113] Plugin optimizer for device_type GPU is enabled.\n",
      "2022-11-08 12:07:35.373282: I tensorflow/core/grappler/optimizers/custom_graph_optimizer_registry.cc:113] Plugin optimizer for device_type GPU is enabled.\n"
     ]
    },
    {
     "name": "stdout",
     "output_type": "stream",
     "text": [
      " 16/148 [==>...........................] - ETA: 0s"
     ]
    },
    {
     "name": "stderr",
     "output_type": "stream",
     "text": [
      "2022-11-08 12:07:35.410433: I tensorflow/core/grappler/optimizers/custom_graph_optimizer_registry.cc:113] Plugin optimizer for device_type GPU is enabled.\n"
     ]
    },
    {
     "name": "stdout",
     "output_type": "stream",
     "text": [
      "148/148 [==============================] - 2s 7ms/step\n"
     ]
    }
   ],
   "source": [
    "pre = m.predict(X_test)"
   ]
  },
  {
   "cell_type": "code",
   "execution_count": 24,
   "id": "afe3df8e",
   "metadata": {},
   "outputs": [
    {
     "name": "stderr",
     "output_type": "stream",
     "text": [
      "2022-11-08 12:07:36.896388: I tensorflow/core/grappler/optimizers/custom_graph_optimizer_registry.cc:113] Plugin optimizer for device_type GPU is enabled.\n",
      "2022-11-08 12:07:36.997738: I tensorflow/core/grappler/optimizers/custom_graph_optimizer_registry.cc:113] Plugin optimizer for device_type GPU is enabled.\n",
      "2022-11-08 12:07:37.031939: I tensorflow/core/grappler/optimizers/custom_graph_optimizer_registry.cc:113] Plugin optimizer for device_type GPU is enabled.\n",
      "2022-11-08 12:07:37.066909: I tensorflow/core/grappler/optimizers/custom_graph_optimizer_registry.cc:113] Plugin optimizer for device_type GPU is enabled.\n"
     ]
    }
   ],
   "source": [
    "from tabnanny import verbose\n",
    "\n",
    "\n",
    "eva = m.evaluate(X_test, y_test, verbose=0)"
   ]
  },
  {
   "cell_type": "code",
   "execution_count": 25,
   "id": "5f038dd7",
   "metadata": {},
   "outputs": [
    {
     "data": {
      "text/plain": [
       "0.005138293839991093"
      ]
     },
     "execution_count": 25,
     "metadata": {},
     "output_type": "execute_result"
    }
   ],
   "source": [
    "eva"
   ]
  },
  {
   "cell_type": "code",
   "execution_count": 26,
   "id": "c475eaeb",
   "metadata": {},
   "outputs": [
    {
     "data": {
      "text/plain": [
       "array([[2.5236848e-01, 2.5808542e+02, 1.4039259e+01, ..., 2.5236847e+00,\n",
       "        9.3376341e+00, 1.8372426e+03],\n",
       "       [2.4929830e-01, 2.5790665e+02, 1.3868464e+01, ..., 2.4929831e+00,\n",
       "        9.2240372e+00, 1.8148916e+03],\n",
       "       [1.6333273e-01, 2.5290085e+02, 9.0861998e+00, ..., 1.6333272e+00,\n",
       "        6.0433111e+00, 1.1890623e+03],\n",
       "       ...,\n",
       "       [3.0945271e-01, 2.6140942e+02, 1.7214855e+01, ..., 3.0945272e+00,\n",
       "        1.1449750e+01, 2.2528157e+03],\n",
       "       [2.0690708e-01, 2.5543819e+02, 1.1510241e+01, ..., 2.0690708e+00,\n",
       "        7.6555619e+00, 1.5062836e+03],\n",
       "       [1.3528055e-01, 2.5126740e+02, 7.5256572e+00, ..., 1.3528055e+00,\n",
       "        5.0053802e+00, 9.8484241e+02]], dtype=float32)"
      ]
     },
     "execution_count": 26,
     "metadata": {},
     "output_type": "execute_result"
    }
   ],
   "source": [
    "Y = np.repeat(pre, 8, axis=1)\n",
    "TT = sc.inverse_transform(Y)\n",
    "TT "
   ]
  },
  {
   "cell_type": "code",
   "execution_count": 27,
   "id": "fbafb640",
   "metadata": {},
   "outputs": [
    {
     "data": {
      "text/plain": [
       "array([[2.96428571e-01, 2.60651036e+02, 1.64903214e+01, ...,\n",
       "        2.96428571e+00, 1.09678571e+01, 2.15800000e+03],\n",
       "       [2.43543956e-01, 2.57571565e+02, 1.35483503e+01, ...,\n",
       "        2.43543956e+00, 9.01112637e+00, 1.77300000e+03],\n",
       "       [2.43543956e-01, 2.57571565e+02, 1.35483503e+01, ...,\n",
       "        2.43543956e+00, 9.01112637e+00, 1.77300000e+03],\n",
       "       ...,\n",
       "       [2.96565934e-01, 2.60659034e+02, 1.64979629e+01, ...,\n",
       "        2.96565934e+00, 1.09729396e+01, 2.15900000e+03],\n",
       "       [1.99175824e-01, 2.54988008e+02, 1.10801511e+01, ...,\n",
       "        1.99175824e+00, 7.36950549e+00, 1.45000000e+03],\n",
       "       [1.31043956e-01, 2.51020690e+02, 7.28997527e+00, ...,\n",
       "        1.31043956e+00, 4.84862637e+00, 9.54000000e+02]])"
      ]
     },
     "execution_count": 27,
     "metadata": {},
     "output_type": "execute_result"
    }
   ],
   "source": [
    "Y_test = np.repeat(y_test, 8)\n",
    "Y_test = Y_test.reshape(-1,8)\n",
    "Y_TT = sc.inverse_transform(Y_test)\n",
    "Y_TT"
   ]
  },
  {
   "cell_type": "code",
   "execution_count": 28,
   "id": "07495d8c",
   "metadata": {},
   "outputs": [
    {
     "data": {
      "image/png": "[encoded data removed]",
      "text/plain": [
       "<Figure size 640x480 with 1 Axes>"
      ]
     },
     "metadata": {},
     "output_type": "display_data"
    }
   ],
   "source": [
    "Y_pred = TT[:, 7]\n",
    "Y_test = Y_TT[:, 7]\n",
    "\n",
    "X =  [i for i in range(len(Y_TT))]\n",
    "plt.plot(X[200:500], Y_test[200:500])\n",
    "plt.plot(X[200:500], Y_pred[200:500])\n",
    "plt.legend(['Actual Value','Prediction'])\n",
    "plt.show()"
   ]
  },
  {
   "cell_type": "code",
   "execution_count": 29,
   "id": "ed5acff9",
   "metadata": {},
   "outputs": [
    {
     "data": {
      "image/png": "[encoded data removed]",
      "text/plain": [
       "<Figure size 640x480 with 1 Axes>"
      ]
     },
     "metadata": {},
     "output_type": "display_data"
    }
   ],
   "source": [
    "Y_pred = TT[:, 7]\n",
    "Y_test = Y_TT[:, 7]\n",
    "\n",
    "X =  [i for i in range(len(Y_TT))]\n",
    "plt.plot(X[200:250], Y_test[200:250])\n",
    "plt.plot(X[200:250], Y_pred[200:250])\n",
    "plt.legend(['Actual Value','Prediction'])\n",
    "plt.show()"
   ]
  },
  {
   "cell_type": "code",
   "execution_count": null,
   "id": "2d0bba80",
   "metadata": {},
   "outputs": [],
   "source": []
  }
 ],
 "metadata": {
  "kernelspec": {
   "display_name": "Python 3 (ipykernel)",
   "language": "python",
   "name": "python3"
  },
  "language_info": {
   "codemirror_mode": {
    "name": "ipython",
    "version": 3
   },
   "file_extension": ".py",
   "mimetype": "text/x-python",
   "name": "python",
   "nbconvert_exporter": "python",
   "pygments_lexer": "ipython3",
   "version": "3.9.13"
  },
  "vscode": {
   "interpreter": {
    "hash": "07c1f2137dd51e6ea18902ffe6dbcb865927edde803f4e820255a1813683e660"
   }
  }
 },
 "nbformat": 4,
 "nbformat_minor": 5
}
